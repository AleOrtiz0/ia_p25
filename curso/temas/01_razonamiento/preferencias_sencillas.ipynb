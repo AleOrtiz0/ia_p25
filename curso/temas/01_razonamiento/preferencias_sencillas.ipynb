{
 "cells": [
  {
   "cell_type": "markdown",
   "metadata": {},
   "source": [
    "<a target=\"_blank\" href=\"https://colab.research.google.com/github/sonder-art/ia_p25/blob/main/curso/temas/01_razonamiento/preferencias_sencillas.ipynb\">\n",
    "  <img src=\"https://colab.research.google.com/assets/colab-badge.svg\" alt=\"Open In Colab\"/>\n",
    "</a>"
   ]
  },
  {
   "cell_type": "markdown",
   "metadata": {},
   "source": [
    "# 1. Imports & Setup"
   ]
  },
  {
   "cell_type": "code",
   "execution_count": 1,
   "metadata": {},
   "outputs": [],
   "source": [
    "# ================================================\n",
    "# Celda 1: Importaciones y Configuración\n",
    "# ================================================\n",
    "\n",
    "import matplotlib.pyplot as plt\n",
    "import numpy as np\n",
    "\n",
    "# Explicación:\n",
    "# Importamos las bibliotecas para graficar y manipular datos.\n",
    "# Solo necesitamos estas dos para representar las preferencias.\n"
   ]
  },
  {
   "cell_type": "markdown",
   "metadata": {},
   "source": [
    "# 2: Funciones Auxiliares (Validador de la Base de Conocimientos)"
   ]
  },
  {
   "cell_type": "code",
   "execution_count": 2,
   "metadata": {},
   "outputs": [],
   "source": [
    "# ================================================\n",
    "# Celda 2: Funciones Auxiliares (Validador, etc.)\n",
    "# ================================================\n",
    "\n",
    "def validate_preferences(preferences, possible_places):\n",
    "    \"\"\"\n",
    "    validate_preferences(preferences, possible_places):\n",
    "        - preferences: Diccionario que representa las preferencias de cada persona.\n",
    "        - possible_places: Lista de lugares posibles para ir a comer.\n",
    "\n",
    "    Esta función se asegura de:\n",
    "        1. Que haya al menos dos personas (2 <= n).\n",
    "        2. Que cada persona proporcione una preferencia para cada lugar de possible_places.\n",
    "        3. Que las preferencias coincidan con la lista de lugares conocidos.\n",
    "\n",
    "    Retorna:\n",
    "        - True, si todas las preferencias son válidas.\n",
    "        - False, si hay algún error; imprime mensajes de error específicos.\n",
    "    \n",
    "    GOFAI / Explicación Simbólica:\n",
    "        - Preparamos nuestra \"Base de Conocimientos\" con hechos:\n",
    "          \"Cada persona tiene 5 (o n) preferencias que corresponden a la lista de lugares.\"\n",
    "        - Este método verifica la consistencia de esos hechos.\n",
    "    \"\"\"\n",
    "    if len(preferences) < 2:\n",
    "        print(\"ERROR: Se necesitan al menos 2 personas para tomar la decisión.\")\n",
    "        return False\n",
    "\n",
    "    required_number_of_places = len(possible_places)\n",
    "    for person_name, pref_list in preferences.items():\n",
    "        if len(pref_list) != required_number_of_places:\n",
    "            print(f\"ERROR: La persona '{person_name}' no proporcionó exactamente \"\n",
    "                  f\"{required_number_of_places} preferencias.\")\n",
    "            return False\n",
    "        \n",
    "        for place in pref_list:\n",
    "            if place not in possible_places:\n",
    "                print(f\"ERROR: La persona '{person_name}' incluyó un lugar desconocido '{place}'.\")\n",
    "                return False\n",
    "\n",
    "    print(\"¡Todas las preferencias han sido validadas correctamente!\")\n",
    "    return True\n",
    "\n",
    "def visualize_preferences(preferences, possible_places):\n",
    "    \"\"\"\n",
    "    visualize_preferences(preferences, possible_places):\n",
    "        - preferences: Diccionario de preferencias (persona -> lista de lugares).\n",
    "        - possible_places: Lista de lugares posibles.\n",
    "\n",
    "    Crea una gráfica de barras para ilustrar cuántas veces se elige cada lugar\n",
    "    como primera opción (#1 preference).\n",
    "\n",
    "    GOFAI / Explicación Simbólica:\n",
    "        - Aunque el enfoque GOFAI es principalmente simbólico,\n",
    "          podemos incluir visualizaciones para entender mejor la\n",
    "          información que hay en la base de conocimientos.\n",
    "    \"\"\"\n",
    "    # Contar cuántas veces aparece cada lugar como primera preferencia\n",
    "    top_choice_count = {place: 0 for place in possible_places}\n",
    "    for person_name, pref_list in preferences.items():\n",
    "        top_preference = pref_list[0]\n",
    "        top_choice_count[top_preference] += 1\n",
    "    \n",
    "    # Preparar datos para la gráfica\n",
    "    places = list(top_choice_count.keys())\n",
    "    counts = [top_choice_count[p] for p in places]\n",
    "\n",
    "    fig, ax = plt.subplots()\n",
    "    ax.bar(places, counts, color='skyblue', edgecolor='black')\n",
    "    ax.set_xlabel(\"Lugares\")\n",
    "    ax.set_ylabel(\"Conteo de Preferencias #1\")\n",
    "    ax.set_title(\"Preferencias Principales de Cada Persona\")\n",
    "\n",
    "    for i, v in enumerate(counts):\n",
    "        ax.text(i, v + 0.1, str(v), ha='center', fontweight='bold')\n",
    "\n",
    "    plt.ylim(0, max(counts) + 1)\n",
    "    plt.show()\n"
   ]
  },
  {
   "cell_type": "markdown",
   "metadata": {},
   "source": [
    "#  3: Inference Engine (Esqueleto de Reglas IF-THEN)"
   ]
  },
  {
   "cell_type": "code",
   "execution_count": 3,
   "metadata": {},
   "outputs": [],
   "source": [
    "# ================================================\n",
    "# Celda 3: Inference Engine (Esqueleto IF-THEN)\n",
    "# ================================================\n",
    "\n",
    "def inference_engine(preferences, possible_places):\n",
    "    \"\"\"\n",
    "    inference_engine(preferences, possible_places):\n",
    "        - preferences: Diccionario validado de las preferencias de cada persona.\n",
    "        - possible_places: Lista de lugares conocidos.\n",
    "\n",
    "    Descripción de Entradas (Inputs):\n",
    "      - 'preferences' es un diccionario como:\n",
    "          {\n",
    "            \"Persona_1\": [lugarA, lugarB, ...],\n",
    "            \"Persona_2\": [lugarC, lugarB, ...],\n",
    "            ...\n",
    "          }\n",
    "      - 'possible_places' es una lista con todos los lugares disponibles, ej:\n",
    "          [\"tacos\", \"ramen\", \"pizza\", \"tortas\", \"hamburguesas\"]\n",
    "    \n",
    "    Descripción de Salida (Output):\n",
    "      - Regresa un string con el lugar seleccionado (ej. \"tacos\").\n",
    "\n",
    "    Explicación GOFAI:\n",
    "        - Este método representa la \"lógica simbólica\" del sistema.\n",
    "        - Las reglas IF-THEN se pueden describir así:\n",
    "          EJEMPLO:\n",
    "            IF la mayoría prefiere X en primer lugar THEN vamos a X\n",
    "            ELSE si hay un empate, usar la preferencia #2, etc.\n",
    "    \n",
    "    ¡IMPORTANTE!\n",
    "    - Los estudiantes deben modificar la lógica interna de esta función\n",
    "      para que refleje su estrategia de decisión.\n",
    "    - Pueden usar reglas más complejas, ponderaciones,\n",
    "      o cualquier enfoque basado en condiciones IF-THEN.\n",
    "\n",
    "    Retorna:\n",
    "      - El nombre del lugar escogido.\n",
    "    \"\"\"\n",
    "\n",
    "    # ========= EJEMPLO MUY SENCILLO DE LÓGICA POR VOTACIÓN DE PRIMERA PREFERENCIA =========\n",
    "    # 1) Contamos la cantidad de veces que cada lugar aparece como primera preferencia\n",
    "    place_votes = {place: 0 for place in possible_places}\n",
    "    for person, pref_list in preferences.items():\n",
    "        top_pref = pref_list[0]     # primera preferencia\n",
    "        place_votes[top_pref] += 1  # sumamos voto\n",
    "\n",
    "    # 2) Buscamos el lugar con mayor número de votos\n",
    "    winner, max_votes = None, -1\n",
    "    for place, votes in place_votes.items():\n",
    "        if votes > max_votes:\n",
    "            winner = place\n",
    "            max_votes = votes\n",
    "\n",
    "    # 3) Si hubiera un empate, aquí podemos agregar más reglas:\n",
    "    #    - Ejemplo: usar la segunda preferencia para desempatar\n",
    "    #    - O bien, asignar distintos pesos por persona, etc.\n",
    "\n",
    "    return winner\n"
   ]
  },
  {
   "cell_type": "markdown",
   "metadata": {},
   "source": [
    "## Explicacion del metodo para agregar"
   ]
  },
  {
   "cell_type": "markdown",
   "metadata": {},
   "source": [
    "\n",
    "\n",
    "Esta celda explica la lógica actual del **`inference_engine`** (Celda 3) de manera más detallada.\n",
    "\n",
    "1. **Recorremos todas las personas** y extraemos su **primera preferencia** (`pref_list[0]`).\n",
    "2. **Llevamos un conteo** (`place_votes`) de cuántas veces aparece cada lugar como **#1**.\n",
    "3. **Determinamos** cuál es el lugar que tiene el **mayor conteo** de primeras preferencias.\n",
    "4. **Retornamos** ese lugar como **`winner`**.\n",
    "\n",
    "> **Nota:** Este método es intencionalmente simple para ilustrar la idea de un sistema simbólico basado en **IF-THEN**. En la práctica (o como ejercicio), se pueden añadir:\n",
    "> - **Reglas de desempate** (ej. segundas preferencias).\n",
    "> - **Reglas de prioridad** (ej. una persona tiene doble voto).\n",
    "> - **Reglas de veto** (\"si alguien odia el lugar, descártalo\").\n",
    "> - **Otros criterios** (ej. presupuesto, cercanía, salud, etc.).\n",
    "\n",
    "La intención es que el estudiante **copie y pegue** la definición de la función **`inference_engine`** (Celda 3) en un chatbot (ej. ChatGPT) junto con su **explicación en lenguaje natural** de cómo debe funcionar su lógica de decisión, y reciba una versión **mejorada/ajustada** de la función.\n"
   ]
  },
  {
   "cell_type": "markdown",
   "metadata": {},
   "source": [
    "## Objetivo del ejercicio"
   ]
  },
  {
   "cell_type": "markdown",
   "metadata": {},
   "source": [
    "\n",
    "**Objetivo del Ejercicio**:  \n",
    "Decidir a dónde ir a comer basándose en las preferencias de un grupo de personas.\n",
    "\n",
    "1. **Revisa la celda** `inference_engine` **(Celda 3)** y **modifica las reglas IF-THEN**  \n",
    "   para que se ajusten a tu **estrategia de decisión**. Puede ser tan **simple o compleja**  \n",
    "   como quieras.\n",
    "\n",
    "2. **Una vez que tengas tu propia lógica**, **copia y pega** la función  \n",
    "   `inference_engine` *(junto con tu explicación en lenguaje natural)* en un **chatbot**  \n",
    "   (por ejemplo, **ChatGPT**). **Pídele al chatbot** que **revise/optimice** y **tenga en cuenta**  \n",
    "   tus **condiciones para la toma de decisión**.\n",
    "\n",
    "3. **Vuelve a pegar la respuesta del chatbot** en la misma función (u otra) y **experimenta**  \n",
    "   hasta que logres la **lógica deseada**.\n",
    "\n",
    "4. **Agrega reglas de desempate y prioridades.**  \n",
    "   **Ejemplo**:\n",
    "   - \"Si dos lugares empatan en **primeras preferencias**, contar cuántas veces aparecen  \n",
    "     en **segunda preferencia**.\"\n",
    "   - \"Cada persona puede tener un **'peso' distinto**. Ej. la persona que cumple años  \n",
    "     tiene **doble voto**.\"\n",
    "\n"
   ]
  },
  {
   "cell_type": "markdown",
   "metadata": {},
   "source": [
    "## Sugerencias de Prompt Engineering\n"
   ]
  },
  {
   "cell_type": "markdown",
   "metadata": {},
   "source": [
    "\n",
    "A continuación, algunos **consejos y ejemplos** que puedes **copiar y pegar** (o adaptar) al trabajar con un **chatbot** (p. ej., **ChatGPT**) para **mejorar tu `inference_engine`**:\n",
    "\n",
    "### 1. Proporciona contexto:\n",
    "\n",
    "> \"Tengo una función llamada `inference_engine` que decide **dónde ir a comer** basándose en las preferencias de un grupo de personas. Cada persona tiene un **orden de preferencia** para varios lugares. **Quiero agregar reglas de desempate y ponderación**. ¿Podrías ayudarme a **mejorar la lógica IF-THEN**?\"\n",
    "\n",
    "### 2. Explica tu lógica en lenguaje natural antes de pedir que el chatbot la codifique:\n",
    "\n",
    "> \"Quiero que si hay un **empate en la primera preferencia**, se **revise la segunda preferencia**. Si hay un nuevo empate, **revisar la tercera**, etc. Además, la persona llamada **'Carlos'** tiene **doble voto** si su lugar favorito coincide con el desempate.\"\n",
    "\n",
    "### 3. Pide correcciones y sugerencias:\n",
    "\n",
    "> \"Por favor, **verifica** si mi solución podría tener **conflictos lógicos** o si hay **casos límite** (por ejemplo, qué pasa cuando dos lugares quedan igualados en las **cuatro primeras preferencias**).\"\n",
    "\n",
    "### 4. Indica el formato de salida esperado:\n",
    "\n",
    "> \"Me gustaría que **devuelvas una versión actualizada de mi función `inference_engine` en formato Python**, sin modificar el resto de mi código.\"\n",
    "\n",
    "### 5. Pide ejemplos de prueba:\n",
    "\n",
    "> \"Sugiere algunos **casos de prueba interesantes** para validar la **robustez de mis reglas** (ej. un caso con **4 personas**, un caso con **3 lugares**, etc.).\"\n",
    "\n",
    "### 6. Repite y refina:\n",
    "\n",
    "Si la respuesta del chatbot **no satisface tus necesidades**, **refina la pregunta**:\n",
    "\n",
    "> \"Tu solución está muy bien, pero **quiero que la ponderación sea configurable para cada persona**. ¿Podrías **mostrarme cómo hacerlo**?\"\n"
   ]
  },
  {
   "cell_type": "markdown",
   "metadata": {},
   "source": [
    "# 5 : Datos de Entrada (Hechos)"
   ]
  },
  {
   "cell_type": "code",
   "execution_count": null,
   "metadata": {},
   "outputs": [
    {
     "name": "stdout",
     "output_type": "stream",
     "text": [
      "¡Todas las preferencias han sido validadas correctamente!\n"
     ]
    },
    {
     "data": {
      "image/png": "[encoded data removed]",
      "text/plain": [
       "<Figure size 640x480 with 1 Axes>"
      ]
     },
     "metadata": {},
     "output_type": "display_data"
    },
    {
     "name": "stdout",
     "output_type": "stream",
     "text": [
      "\n",
      "¡El sistema de inferencia decidió que iremos a comer a 'tacos'!\n"
     ]
    }
   ],
   "source": [
    "\n",
    "# Definimos los posibles lugares (nuestra \"Base de Conocimientos\")\n",
    "possible_places = [\"tacos\", \"ramen\", \"pizza\"]#, \"tortas\", \"hamburguesas\"]\n",
    "\n",
    "# Diccionario de preferencias (personas -> lista de lugares en orden de preferencia).\n",
    "# Cada persona debe listar sus preferencias en el mismo orden y con la misma longitud \n",
    "# que la lista de 'possible_places'.\n",
    "preferences = {\n",
    "    \"Alice\": [\"tacos\", \"ramen\", \"pizza\"],# \"hamburguesas\", \"tortas\"],\n",
    "    \"Bob\":   [\"ramen\", \"pizza\", \"tacos\"],# \"tortas\", \"hamburguesas\"],\n",
    "    \"Carole\":[\"ramen\", \"pizza\", \"ramen\"],# \"tortas\", \"hamburguesas\"],\n",
    "\n",
    "    # Agrega más personas si lo deseas\n",
    "}\n",
    "\n",
    "\n",
    "# 1) Validar las preferencias\n",
    "valid = validate_preferences(preferences, possible_places)\n",
    "\n",
    "if valid:\n",
    "    # 2) Visualizar las preferencias\n",
    "    visualize_preferences(preferences, possible_places)\n",
    "    \n",
    "    # 3) Ejecutar el Inference Engine para decidir dónde comer\n",
    "    chosen_place = inference_engine(preferences, possible_places)\n",
    "    \n",
    "    # 4) Mostrar el resultado final\n",
    "    print(f\"\\n¡El sistema de inferencia decidió que iremos a comer a '{chosen_place}'!\")\n",
    "else:\n",
    "    print(\"Por favor, corrige los errores en las preferencias y vuelve a ejecutar la celda.\")\n"
   ]
  }
 ],
 "metadata": {
  "kernelspec": {
   "display_name": ".venv",
   "language": "python",
   "name": "python3"
  },
  "language_info": {
   "codemirror_mode": {
    "name": "ipython",
    "version": 3
   },
   "file_extension": ".py",
   "mimetype": "text/x-python",
   "name": "python",
   "nbconvert_exporter": "python",
   "pygments_lexer": "ipython3",
   "version": "3.10.12"
  }
 },
 "nbformat": 4,
 "nbformat_minor": 2
}
